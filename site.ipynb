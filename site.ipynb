{
 "cells": [
  {
   "cell_type": "code",
   "execution_count": null,
   "metadata": {},
   "outputs": [
    {
     "name": "stderr",
     "output_type": "stream",
     "text": [
      " * Running on http://127.0.0.1:5000/ (Press CTRL+C to quit)\n"
     ]
    }
   ],
   "source": [
    "from flask import Flask, request, render_template\n",
    "\n",
    "\n",
    "\n",
    "def sentiment(t):\n",
    "    if t == 'HAPPY':\n",
    "        senti = 'pos'\n",
    "    elif t == 'SAD':\n",
    "        senti = 'neg'\n",
    "    else:\n",
    "        senti == 'unknown'\n",
    "    return senti\n",
    "\n",
    "app = Flask(__name__)\n",
    "@app.route('/')\n",
    "def my_form():\n",
    "    return render_template('boi.html')\n",
    "\n",
    "@app.route('/', methods=['POST'])\n",
    "\n",
    "def my_form_post():\n",
    "    text = request.form['text']\n",
    "    processed_text = sentiment(text)\n",
    "    return processed_text\n",
    "\n",
    "if __name__ == \"__main__\":\n",
    "    app.run()\n"
   ]
  },
  {
   "cell_type": "code",
   "execution_count": null,
   "metadata": {
    "collapsed": true
   },
   "outputs": [],
   "source": []
  },
  {
   "cell_type": "code",
   "execution_count": null,
   "metadata": {
    "collapsed": true
   },
   "outputs": [],
   "source": []
  }
 ],
 "metadata": {
  "kernelspec": {
   "display_name": "Python 3",
   "language": "python",
   "name": "python3"
  },
  "language_info": {
   "codemirror_mode": {
    "name": "ipython",
    "version": 3
   },
   "file_extension": ".py",
   "mimetype": "text/x-python",
   "name": "python",
   "nbconvert_exporter": "python",
   "pygments_lexer": "ipython3",
   "version": "3.6.3"
  }
 },
 "nbformat": 4,
 "nbformat_minor": 2
}
